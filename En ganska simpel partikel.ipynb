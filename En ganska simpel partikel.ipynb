{
 "cells": [
  {
   "cell_type": "markdown",
   "metadata": {},
   "source": [
    "# Ett test att göra en Cu@Ag particel och lyckas \"se\" den med HyperSpy\n",
    "\n",
    "Ni kommer behöva antingen göra två egna spectrum eller ladda ned LucPureAg.msa & LucPureCu.msa. "
   ]
  },
  {
   "cell_type": "code",
   "execution_count": 1,
   "metadata": {},
   "outputs": [
    {
     "name": "stderr",
     "output_type": "stream",
     "text": [
      "C:\\Users\\Lucas\\anaconda3\\lib\\site-packages\\pyUSID\\viz\\__init__.py:16: FutureWarning: Please use sidpy.viz.plot_utils instead of pyUSID.viz.plot_utils. pyUSID.plot_utils will be removed in a future release of pyUSID\n",
      "  warn('Please use sidpy.viz.plot_utils instead of pyUSID.viz.plot_utils. '\n"
     ]
    }
   ],
   "source": [
    "%matplotlib qt\n",
    "import hyperspy.api as hs\n",
    "import math\n",
    "import numpy as np\n",
    "import matplotlib.pyplot as plt"
   ]
  },
  {
   "cell_type": "markdown",
   "metadata": {},
   "source": [
    "Jonas Metod"
   ]
  },
  {
   "cell_type": "code",
   "execution_count": 2,
   "metadata": {},
   "outputs": [],
   "source": [
    "# -*- coding: utf-8 -*-\n",
    "\"\"\"\n",
    "Created on Mon Feb  1 16:12:36 2021\n",
    "@author: Jonas\n",
    "Method to create matrix with sphere\n",
    "\"\"\"\n",
    "import math;\n",
    "import numpy as np;\n",
    "class EdxMat:\n",
    "    def __init__(self,size,r: float,dens:float,l: float):\n",
    "        '''size: defines the 'picture' size as size x size pixels\\n\n",
    "        r: defines the radius of the spherical particle\\n\n",
    "        dens: density of the material the particle is made of\\n\n",
    "        l: pixel size in the same unit as r (i.e. the area is l^2)'''\n",
    "        self.size=size;\n",
    "        self.r=r;\n",
    "        self.dens=dens;\n",
    "        self.l=l;\n",
    "        rred=r/l;\n",
    "        self.mid= float((size-1)/2);#-1 because indices start from zero\n",
    "        #The constructor now constructs a matrix using the input arguments\n",
    "        mat=np.zeros((size,size));\n",
    "        self.mat=mat;\n",
    "        for i in range(size):\n",
    "            for j in range(size):\n",
    "                if rred**2>=((i-self.mid)**2+(j-self.mid)**2):\n",
    "                    mat[i][j]=2*dens*self.thick(i,j);\n",
    "        \n",
    "    def thick(self,n,m):\n",
    "        nr=n-self.mid;\n",
    "        mr=m-self.mid;\n",
    "        l=self.l;\n",
    "        r=self.r;\n",
    "        return math.sqrt(r**2-(nr*l)**2-(mr*l)**2);"
   ]
  },
  {
   "cell_type": "code",
   "execution_count": 3,
   "metadata": {},
   "outputs": [],
   "source": [
    "x1=EdxMat(50,20.0,10.49,1.0)  #Den första hela \"partikeln\" som sen kommer bli skal (Ag)\n",
    "x2=EdxMat(50,15.0,10.49,1.0)  #Den andra mindre \"partikeln\" som kommer ta bort insidan så det blir ett skal (Ag)\n",
    "x3=EdxMat(50,15,8.96,1)       #Den faktiska mindre \"partikeln\" som är koppar kärnan (Cu)\n",
    "shell = x1.mat-x2.mat         #Skapar skalet (Ag)\n",
    "core = x3.mat                 #Skapar kärnan (Cu)"
   ]
  },
  {
   "cell_type": "markdown",
   "metadata": {},
   "source": [
    "Färdigställande av partikel:"
   ]
  },
  {
   "cell_type": "code",
   "execution_count": 4,
   "metadata": {},
   "outputs": [],
   "source": [
    "'''\n",
    "Det var tydligen rätt viktigt att spectrumen var gjorda på samma sätt för att man skulle kunna se skal och kärna i \n",
    "samma bild. Annars blev det att kärnan eller skalet fanns där men inte syntes varken i bilden eller spektrat då\n",
    "intensiteten var för låg. \n",
    "'''\n",
    "sAg = hs.load(\"LucPureAg.msa\",signal_type=\"EDS_TEM\")\n",
    "sCu = hs.load(\"LucPureCu.msa\",signal_type=\"EDS_TEM\") \n",
    "\n",
    "#Tomma matriser med rätt dimensioner\n",
    "arr = np.empty((50,50,2048)) \n",
    "core3d = arr.copy() # .copy() för att annars pekar de på varandra och core och shell blandas\n",
    "shell3d = arr.copy()\n",
    "Ag = sAg.data #Extraherar bara spectrumen från .msa-filerna\n",
    "Cu = sCu.data\n",
    "\n",
    "\n",
    "for i in range(0,50):\n",
    "    for j in range(0,50):\n",
    "        #Här fylls de tomma core och shell matriserna med spectrum*intensitet från sfärmatriserna\n",
    "        core3d[i,j,0:2048]=core[i,j]*Cu\n",
    "        shell3d[i,j,0:2048]=shell[i,j]*Ag"
   ]
  },
  {
   "cell_type": "code",
   "execution_count": 5,
   "metadata": {},
   "outputs": [
    {
     "name": "stdout",
     "output_type": "stream",
     "text": [
      "292535.35803134943\n"
     ]
    }
   ],
   "source": [
    "#Nu slås de core och shell ihop och blir den fullständiga particeln:\n",
    "matr = shell3d + core3d\n",
    "maxval = np.max(matr)\n",
    "#matr = (matr/maxval*255).astype(np.uint8)  #Denna behövs nog inte till hyperspy men behövs om man ska göra en egentlig bild tror jag."
   ]
  },
  {
   "cell_type": "markdown",
   "metadata": {},
   "source": [
    "Baserat på Filips spektrum-metod:"
   ]
  },
  {
   "cell_type": "code",
   "execution_count": 6,
   "metadata": {},
   "outputs": [],
   "source": [
    "p = hs.signals.Signal1D(matr) #Läser in matrisen som en hyperspysignal"
   ]
  },
  {
   "cell_type": "code",
   "execution_count": 7,
   "metadata": {},
   "outputs": [],
   "source": [
    "#Ett gäng metadata som kanske inte är nödvändigt men underlättar\n",
    "p.set_signal_type(\"EDS_TEM\") \n",
    "p.axes_manager.signal_axes[0].units = 'keV' #OBS! Enheten på energiaxeln är viktig för att kunna plotta\n",
    "p.axes_manager[0].name = 'y'\n",
    "p.axes_manager[1].name = 'x'\n",
    "p.axes_manager['x'].units = 'nm'\n",
    "p.axes_manager['y'].units = 'nm'\n",
    "p.axes_manager[-1].name = 'E'\n",
    "p.add_elements(['Ag','Cu']) #Lägger in element igen tydligen förs de inte med \n",
    "p.plot()                    #Än så länge kan man iaf kolla på bilden och se att det är olika spectrum \"över\" kärnan och skalet."
   ]
  },
  {
   "cell_type": "code",
   "execution_count": null,
   "metadata": {},
   "outputs": [],
   "source": []
  },
  {
   "cell_type": "code",
   "execution_count": null,
   "metadata": {},
   "outputs": [],
   "source": []
  }
 ],
 "metadata": {
  "kernelspec": {
   "display_name": "Python 3",
   "language": "python",
   "name": "python3"
  },
  "language_info": {
   "codemirror_mode": {
    "name": "ipython",
    "version": 3
   },
   "file_extension": ".py",
   "mimetype": "text/x-python",
   "name": "python",
   "nbconvert_exporter": "python",
   "pygments_lexer": "ipython3",
   "version": "3.8.5"
  }
 },
 "nbformat": 4,
 "nbformat_minor": 4
}
